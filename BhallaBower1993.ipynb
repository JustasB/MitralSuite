{
 "cells": [
  {
   "cell_type": "markdown",
   "metadata": {},
   "source": [
    "### Load model mechanisms"
   ]
  },
  {
   "cell_type": "code",
   "execution_count": 1,
   "metadata": {
    "collapsed": false
   },
   "outputs": [],
   "source": [
    "modelPath = 'Models/BhallaBower1993/bbmit'\n",
    "\n",
    "import os\n",
    "os.chdir(modelPath)\n",
    "\n",
    "from neuron import h"
   ]
  },
  {
   "cell_type": "markdown",
   "metadata": {},
   "source": [
    "### Import required packages"
   ]
  },
  {
   "cell_type": "code",
   "execution_count": 2,
   "metadata": {
    "collapsed": false
   },
   "outputs": [],
   "source": [
    "%matplotlib inline\n",
    "import matplotlib.pyplot as g\n",
    "\n",
    "from neuronunit.neuron.models import *\n",
    "from neuronunit.tests import *\n",
    "import neuronunit.neuroelectro\n",
    "from quantities import nA, pA, s, ms, mV"
   ]
  },
  {
   "cell_type": "markdown",
   "metadata": {},
   "source": [
    "### Create a Mitral Cell"
   ]
  },
  {
   "cell_type": "code",
   "execution_count": 3,
   "metadata": {
    "collapsed": false
   },
   "outputs": [],
   "source": [
    "h.load_file('mosinit.hoc')\n",
    "h.IClamp[0].amp = 0.0\n",
    "soma = h.soma"
   ]
  },
  {
   "cell_type": "markdown",
   "metadata": {},
   "source": [
    "### Create a NeuronUnit model using the cell"
   ]
  },
  {
   "cell_type": "code",
   "execution_count": 4,
   "metadata": {
    "collapsed": false
   },
   "outputs": [],
   "source": [
    "mod1 = SingleCellModel(hVar = h, \\\n",
    "                       section = soma, \\\n",
    "                       loc = 0.5, # Current and voltage injection and measurement location on the section \\\n",
    "                       name = \"BhallaBower1993\")\n",
    "\n",
    "mod1.setIntegrationMethod(\"fixed\")  # Or \"variable\"\n",
    "mod1.setTimeStep(1/32.0 * ms) # 2^-n are preferable\n",
    "mod1.setTolerance() # Only needed if \"variable\"\n",
    "mod1.setStopTime(2*s)"
   ]
  },
  {
   "cell_type": "markdown",
   "metadata": {},
   "source": [
    "### Define tests to run"
   ]
  },
  {
   "cell_type": "code",
   "execution_count": 5,
   "metadata": {
    "collapsed": false
   },
   "outputs": [],
   "source": [
    "# Define which cell's properties to get\n",
    "# 'nlx_anat_100201' is from Olfactory bulb mitral cell, \n",
    "# obtained from http://neuroelectro.org/neuron/129/ (Details)\n",
    "neuron = {'nlex_id': 'nlx_anat_100201'} \n",
    "\n",
    "# Define injection current\n",
    "i = {'injected_square_current': {'amplitude':10*nA, 'delay':1000*ms, 'duration':2000*ms } }\n",
    "\n",
    "# Define the tests to perform on the cell\n",
    "testTypes = [ \\\n",
    "    [InputResistanceTest, None],\n",
    "    [RestingPotentialTest, None],\n",
    "    [InjectedCurrentAPWidthTest, i], \\\n",
    "    [InjectedCurrentAPThresholdTest, i], \\\n",
    "    [InjectedCurrentAPAmplitudeTest, i],\n",
    "]\n",
    "     \n",
    "tests = []"
   ]
  },
  {
   "cell_type": "markdown",
   "metadata": {},
   "source": [
    "### Obtain Pooled Property Values from NeuroElectro.org"
   ]
  },
  {
   "cell_type": "code",
   "execution_count": 6,
   "metadata": {
    "collapsed": false
   },
   "outputs": [
    {
     "name": "stdout",
     "output_type": "stream",
     "text": [
      "Getting data values from neuroelectro.org\n",
      "http://www.neuroelectro.org/api/1/nedm/?nlex=nlx_anat_100201&limit=999&e__name=Input+Resistance&\n"
     ]
    },
    {
     "ename": "RuntimeError",
     "evalue": "No data was returned by the NeuroElectro API",
     "output_type": "error",
     "traceback": [
      "\u001b[0;31m---------------------------------------------------------------------------\u001b[0m",
      "\u001b[0;31mRuntimeError\u001b[0m                              Traceback (most recent call last)",
      "\u001b[0;32m<ipython-input-6-eb4a3a4ec190>\u001b[0m in \u001b[0;36m<module>\u001b[0;34m()\u001b[0m\n\u001b[1;32m      5\u001b[0m \u001b[0;34m\u001b[0m\u001b[0m\n\u001b[1;32m      6\u001b[0m     \u001b[0;31m# Get the observations: property means and stds\u001b[0m\u001b[0;34m\u001b[0m\u001b[0;34m\u001b[0m\u001b[0m\n\u001b[0;32m----> 7\u001b[0;31m     \u001b[0mobs\u001b[0m \u001b[0;34m=\u001b[0m \u001b[0mtestType\u001b[0m\u001b[0;34m.\u001b[0m\u001b[0mneuroelectro_pooled_observation\u001b[0m\u001b[0;34m(\u001b[0m\u001b[0mneuron\u001b[0m\u001b[0;34m,\u001b[0m \u001b[0mquiet\u001b[0m\u001b[0;34m=\u001b[0m\u001b[0mFalse\u001b[0m\u001b[0;34m)\u001b[0m\u001b[0;34m\u001b[0m\u001b[0m\n\u001b[0m\u001b[1;32m      8\u001b[0m \u001b[0;34m\u001b[0m\u001b[0m\n\u001b[1;32m      9\u001b[0m     \u001b[0;31m# Create a test instance using the observations\u001b[0m\u001b[0;34m\u001b[0m\u001b[0;34m\u001b[0m\u001b[0m\n",
      "\u001b[0;32m/usr/local/lib/python2.7/site-packages/neuronunit-0.1.8.1-py2.7.egg/neuronunit/tests/__init__.pyc\u001b[0m in \u001b[0;36mneuroelectro_pooled_observation\u001b[0;34m(cls, neuron, quiet)\u001b[0m\n\u001b[1;32m    119\u001b[0m                                                      \u001b[0;31m# NeuroElectro ontology.\u001b[0m\u001b[0;34m\u001b[0m\u001b[0;34m\u001b[0m\u001b[0m\n\u001b[1;32m    120\u001b[0m             )\n\u001b[0;32m--> 121\u001b[0;31m         \u001b[0mreference_data\u001b[0m\u001b[0;34m.\u001b[0m\u001b[0mget_values\u001b[0m\u001b[0;34m(\u001b[0m\u001b[0mquiet\u001b[0m\u001b[0;34m=\u001b[0m\u001b[0mquiet\u001b[0m\u001b[0;34m)\u001b[0m \u001b[0;31m# Get and verify summary data\u001b[0m\u001b[0;34m\u001b[0m\u001b[0m\n\u001b[0m\u001b[1;32m    122\u001b[0m                                     \u001b[0;31m# from neuroelectro.org.\u001b[0m\u001b[0;34m\u001b[0m\u001b[0;34m\u001b[0m\u001b[0m\n\u001b[1;32m    123\u001b[0m         observation = {'mean': reference_data.mean*cls.units,\n",
      "\u001b[0;32m/usr/local/lib/python2.7/site-packages/neuronunit-0.1.8.1-py2.7.egg/neuronunit/neuroelectro.pyc\u001b[0m in \u001b[0;36mget_values\u001b[0;34m(self, params, quiet)\u001b[0m\n\u001b[1;32m    295\u001b[0m \u001b[0;34m\u001b[0m\u001b[0m\n\u001b[1;32m    296\u001b[0m         \u001b[0;32melse\u001b[0m\u001b[0;34m:\u001b[0m\u001b[0;34m\u001b[0m\u001b[0m\n\u001b[0;32m--> 297\u001b[0;31m             \u001b[0;32mraise\u001b[0m \u001b[0mRuntimeError\u001b[0m\u001b[0;34m(\u001b[0m\u001b[0;34m\"No data was returned by the NeuroElectro API\"\u001b[0m\u001b[0;34m)\u001b[0m\u001b[0;34m\u001b[0m\u001b[0m\n\u001b[0m\u001b[1;32m    298\u001b[0m \u001b[0;34m\u001b[0m\u001b[0m\n\u001b[1;32m    299\u001b[0m         \u001b[0;32mreturn\u001b[0m \u001b[0mdata\u001b[0m\u001b[0;34m\u001b[0m\u001b[0m\n",
      "\u001b[0;31mRuntimeError\u001b[0m: No data was returned by the NeuroElectro API"
     ]
    }
   ],
   "source": [
    "# Fetch NeuroElectro property values for each test\n",
    "for t in xrange(len(testTypes)):\n",
    "    testType = testTypes[t][0]\n",
    "    params = testTypes[t][1]\n",
    "    \n",
    "    # Get the observations: property means and stds\n",
    "    obs = testType.neuroelectro_pooled_observation(neuron, quiet=False)\n",
    "    \n",
    "    # Create a test instance using the observations\n",
    "    test = testType(obs)\n",
    "    \n",
    "    if(params is not None):\n",
    "        test.params = params\n",
    "    \n",
    "    tests.append(test)\n",
    "    \n",
    "# Create a test suite    \n",
    "suite = sciunit.TestSuite(\"Migliore 2014 Tests\", tests)"
   ]
  },
  {
   "cell_type": "markdown",
   "metadata": {},
   "source": [
    "### Evaluate the model"
   ]
  },
  {
   "cell_type": "code",
   "execution_count": 7,
   "metadata": {
    "collapsed": false
   },
   "outputs": [
    {
     "ename": "NameError",
     "evalue": "name 'suite' is not defined",
     "output_type": "error",
     "traceback": [
      "\u001b[0;31m---------------------------------------------------------------------------\u001b[0m",
      "\u001b[0;31mNameError\u001b[0m                                 Traceback (most recent call last)",
      "\u001b[0;32m<ipython-input-7-b75af095635b>\u001b[0m in \u001b[0;36m<module>\u001b[0;34m()\u001b[0m\n\u001b[0;32m----> 1\u001b[0;31m \u001b[0mscore\u001b[0m \u001b[0;34m=\u001b[0m \u001b[0msuite\u001b[0m\u001b[0;34m.\u001b[0m\u001b[0mjudge\u001b[0m\u001b[0;34m(\u001b[0m\u001b[0mmod1\u001b[0m\u001b[0;34m)\u001b[0m\u001b[0;34m\u001b[0m\u001b[0m\n\u001b[0m\u001b[1;32m      2\u001b[0m \u001b[0mscore\u001b[0m\u001b[0;34m.\u001b[0m\u001b[0mview\u001b[0m\u001b[0;34m(\u001b[0m\u001b[0;34m)\u001b[0m\u001b[0;34m\u001b[0m\u001b[0m\n",
      "\u001b[0;31mNameError\u001b[0m: name 'suite' is not defined"
     ]
    }
   ],
   "source": [
    "score = suite.judge(mod1)\n",
    "score.view()"
   ]
  },
  {
   "cell_type": "code",
   "execution_count": null,
   "metadata": {
    "collapsed": true
   },
   "outputs": [],
   "source": []
  }
 ],
 "metadata": {
  "kernelspec": {
   "display_name": "Python 2",
   "language": "python",
   "name": "python2"
  },
  "language_info": {
   "codemirror_mode": {
    "name": "ipython",
    "version": 2
   },
   "file_extension": ".py",
   "mimetype": "text/x-python",
   "name": "python",
   "nbconvert_exporter": "python",
   "pygments_lexer": "ipython2",
   "version": "2.7.11"
  }
 },
 "nbformat": 4,
 "nbformat_minor": 0
}
