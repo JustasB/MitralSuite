{
 "cells": [
  {
   "cell_type": "markdown",
   "metadata": {},
   "source": [
    "### Summary\n",
    "\n",
    "The following notebook demonstrates how to use NeuronUnit tests to obtain membrane property values of a simple NEURON cell. The test results are compared to data found in NeuroElectro.org database"
   ]
  },
  {
   "cell_type": "markdown",
   "metadata": {
    "collapsed": true
   },
   "source": [
    "### Import required packages"
   ]
  },
  {
   "cell_type": "code",
   "execution_count": 2,
   "metadata": {
    "collapsed": false
   },
   "outputs": [],
   "source": [
    "%matplotlib inline\n",
    "import matplotlib.pyplot as g\n",
    "\n",
    "from neuronunit.neuron.models import *\n",
    "from neuronunit.tests import *\n",
    "import neuronunit.neuroelectro\n",
    "from quantities import nA, pA, s, ms, mV\n",
    "\n",
    "from neuron import h\n",
    "\n",
    "# DEBUG TESTING\n",
    "#from importlib import *\n",
    "#import neuronunit\n",
    "#reload(neuronunit.neuron.models)\n",
    "#from neuronunit.neuron.models import *"
   ]
  },
  {
   "cell_type": "markdown",
   "metadata": {},
   "source": [
    "### Create a simple HH cell in NEURON"
   ]
  },
  {
   "cell_type": "code",
   "execution_count": 31,
   "metadata": {
    "collapsed": false
   },
   "outputs": [
    {
     "data": {
      "text/plain": [
       "<nrn.Section at 0x11092ba80>"
      ]
     },
     "execution_count": 31,
     "metadata": {},
     "output_type": "execute_result"
    }
   ],
   "source": [
    "soma = h.Section()\n",
    "soma.L = 100\n",
    "soma.diam = 100\n",
    "soma.cm = 10\n",
    "soma.Ra = 180\n",
    "soma.insert(\"pas\")\n",
    "soma.insert(\"hh\")"
   ]
  },
  {
   "cell_type": "markdown",
   "metadata": {},
   "source": [
    "### Create a NeuronUnit model using the cell"
   ]
  },
  {
   "cell_type": "code",
   "execution_count": 32,
   "metadata": {
    "collapsed": false
   },
   "outputs": [],
   "source": [
    "mod1 = SingleCellModel(hVar = h, \\\n",
    "                       section = soma, \\\n",
    "                       loc = 0.5, # Current and voltage injection and measurement location on the section \\\n",
    "                       name = \"SimpleHHCellModel\")\n",
    "\n",
    "mod1.setIntegrationMethod(\"fixed\")  # Or \"variable\"\n",
    "mod1.setTimeStep(1/128.0 * ms) # 2^-n are preferable\n",
    "#mod1.setTolerance(0.01) # Only needed if \"variable\"\n",
    "mod1.setStopTime(2*s)"
   ]
  },
  {
   "cell_type": "markdown",
   "metadata": {},
   "source": [
    "### Find desired stimulation current"
   ]
  },
  {
   "cell_type": "code",
   "execution_count": 33,
   "metadata": {
    "collapsed": false
   },
   "outputs": [
    {
     "data": {
      "image/png": "[encoded data removed]",
      "text/plain": [
       "<matplotlib.figure.Figure at 0x10f987310>"
      ]
     },
     "metadata": {},
     "output_type": "display_data"
    },
    {
     "data": {
      "image/png": "[encoded data removed]",
      "text/plain": [
       "<matplotlib.figure.Figure at 0x10eb7a610>"
      ]
     },
     "metadata": {},
     "output_type": "display_data"
    },
    {
     "data": {
      "text/plain": [
       "<function __main__.inject>"
      ]
     },
     "execution_count": 33,
     "metadata": {},
     "output_type": "execute_result"
    }
   ],
   "source": [
    "from ipywidgets import interact\n",
    "\n",
    "def inject(i):\n",
    "    mod1.inject_square_current({'amplitude': float(i)*nA, 'delay': .5*s, 'duration': 5*ms})\n",
    "\n",
    "    g.plot(mod1.get_membrane_potential())\n",
    "    g.show()\n",
    "    g.plot(mod1.get_APs()[0])\n",
    "    g.show()\n",
    "    \n",
    "interact(inject,i=\"20\")"
   ]
  },
  {
   "cell_type": "markdown",
   "metadata": {
    "collapsed": false
   },
   "source": [
    "### Set the test currents"
   ]
  },
  {
   "cell_type": "code",
   "execution_count": 17,
   "metadata": {
    "collapsed": true
   },
   "outputs": [],
   "source": [
    "i_tau = {'amplitude': -1*nA, 'delay': 0.5*s, 'duration': 1*s}\n",
    "i_ap  = {'amplitude': 20*nA, 'delay': 1*s, 'duration': 5*ms}"
   ]
  },
  {
   "cell_type": "markdown",
   "metadata": {
    "collapsed": false
   },
   "source": [
    "### Create a suite of example tests with expected observations"
   ]
  },
  {
   "cell_type": "code",
   "execution_count": 34,
   "metadata": {
    "collapsed": false
   },
   "outputs": [],
   "source": [
    "t1 = neuronunit.tests.InjectedCurrentAPWidthTest({ 'mean': 1.5*ms, 'std': 0.5*ms }) # Example values\n",
    "t1.params = {'injected_square_current': i_ap }\n",
    "\n",
    "t2 = neuronunit.tests.RestingPotentialTest({ 'mean': -67*mV, 'std': 5*mV })\n",
    "\n",
    "suite = sciunit.TestSuite(\"SimpleTestSuite\",[t1,t2])"
   ]
  },
  {
   "cell_type": "markdown",
   "metadata": {},
   "source": [
    "### Evaluate the model with the test suite"
   ]
  },
  {
   "cell_type": "code",
   "execution_count": 35,
   "metadata": {
    "collapsed": false
   },
   "outputs": [
    {
     "name": "stdout",
     "output_type": "stream",
     "text": [
      "A Z score. A float indicating standardized difference from a reference mean.\n",
      "The difference between the means of the observation and prediction divided by the standard deviation of the observation\n",
      "A Z score. A float indicating standardized difference from a reference mean.\n",
      "The difference between the means of the observation and prediction divided by the standard deviation of the observation\n"
     ]
    },
    {
     "data": {
      "text/html": [
       "<html><body><table border=\"1\" class=\"dataframe\" id=\"-8771641918653993137\">\n",
       "<thead>\n",
       "<tr style=\"text-align: right;\">\n",
       "<th></th>\n",
       "<th title=\"A test of the widths of action potentials at half of their maximum height when current is injected into cell.\">Injected current AP width</th>\n",
       "<th title=\"A test of the resting potential of a cell where injected current is set to zero.\">Resting potential</th>\n",
       "</tr>\n",
       "</thead>\n",
       "<tbody>\n",
       "<tr>\n",
       "<th title=\"A NEURON simulator model for an isolated single cell membrane\">SimpleHHCellModel</th>\n",
       "<td style=\"background-color: rgb(255,79,79);\" title>Z = 1.02</td>\n",
       "<td style=\"background-color: rgb(255,233,233);\" title>Z = -0.11</td>\n",
       "</tr>\n",
       "</tbody>\n",
       "</table></body></html>"
      ],
      "text/plain": [
       "<IPython.core.display.HTML object>"
      ]
     },
     "execution_count": 35,
     "metadata": {},
     "output_type": "execute_result"
    }
   ],
   "source": [
    "score = suite.judge(mod1)\n",
    "score.view()"
   ]
  },
  {
   "cell_type": "markdown",
   "metadata": {},
   "source": [
    "### Define tests that will use NeuroElectro.org Data"
   ]
  },
  {
   "cell_type": "code",
   "execution_count": 37,
   "metadata": {
    "collapsed": false
   },
   "outputs": [],
   "source": [
    "# Load previously saved data\n",
    "import pickle\n",
    "\n",
    "# These are saved in ExperimentalObservations notebook\n",
    "with open(\"observations.dat\", \"rb\") as file: \n",
    "    observations = pickle.load(file)\n",
    "    \n",
    "# Define the tests to perform on the cell\n",
    "testTypes = [ \\\n",
    "    [InputResistanceTest,            None],\n",
    "    [RestingPotentialTest,           None],\n",
    "    [TimeConstantTest,               {'injected_square_current': i_tau }],\n",
    "    [InjectedCurrentAPWidthTest,     {'injected_square_current': i_ap }], \\\n",
    "    [InjectedCurrentAPThresholdTest, {'injected_square_current': i_ap }], \\\n",
    "    [InjectedCurrentAPAmplitudeTest, {'injected_square_current': i_ap }],\n",
    "]\n",
    "\n",
    "tests = []\n",
    "\n",
    "# Fetch NeuroElectro property values for each test\n",
    "for t in xrange(len(testTypes)):\n",
    "    testType = testTypes[t][0]\n",
    "    params = testTypes[t][1]\n",
    "    \n",
    "    # Create a test instance using the observations\n",
    "    test = testType(observations[\"Pooled\"][testType.name])\n",
    "    \n",
    "    if(params is not None):\n",
    "        test.params = params\n",
    "    \n",
    "    tests.append(test)\n",
    "    \n",
    "# Create a test suite    \n",
    "suite = sciunit.TestSuite(\"Membrane Property Tests\", tests)"
   ]
  },
  {
   "cell_type": "markdown",
   "metadata": {},
   "source": [
    "### Evaluate the model"
   ]
  },
  {
   "cell_type": "code",
   "execution_count": 38,
   "metadata": {
    "collapsed": false
   },
   "outputs": [
    {
     "name": "stdout",
     "output_type": "stream",
     "text": [
      "A Z score. A float indicating standardized difference from a reference mean.\n",
      "The difference between the means of the observation and prediction divided by the standard deviation of the observation\n",
      "A Z score. A float indicating standardized difference from a reference mean.\n",
      "The difference between the means of the observation and prediction divided by the standard deviation of the observation\n",
      "A Z score. A float indicating standardized difference from a reference mean.\n",
      "The difference between the means of the observation and prediction divided by the standard deviation of the observation\n",
      "A Z score. A float indicating standardized difference from a reference mean.\n",
      "The difference between the means of the observation and prediction divided by the standard deviation of the observation\n",
      "A Z score. A float indicating standardized difference from a reference mean.\n",
      "The difference between the means of the observation and prediction divided by the standard deviation of the observation\n",
      "A Z score. A float indicating standardized difference from a reference mean.\n",
      "The difference between the means of the observation and prediction divided by the standard deviation of the observation\n"
     ]
    },
    {
     "data": {
      "text/html": [
       "<html><body><table border=\"1\" class=\"dataframe\" id=\"-2225545401836337608\">\n",
       "<thead>\n",
       "<tr style=\"text-align: right;\">\n",
       "<th></th>\n",
       "<th title=\"A test of the input resistance of a cell.\">Input resistance</th>\n",
       "<th title=\"A test of the resting potential of a cell where injected current is set to zero.\">Resting potential</th>\n",
       "<th title=\"A test of membrane time constant of a cell.\">Time constant</th>\n",
       "<th title=\"A test of the widths of action potentials at half of their maximum height when current is injected into cell.\">Injected current AP width</th>\n",
       "<th title=\"A test of the membrane potential threshold at which action potentials are produced under current injection.\">Injected current AP threshold</th>\n",
       "<th title=\"A test of the heights (peak amplitudes) of action potentials when current is injected into cell.\">Injected current AP amplitude</th>\n",
       "</tr>\n",
       "</thead>\n",
       "<tbody>\n",
       "<tr>\n",
       "<th title=\"A NEURON simulator model for an isolated single cell membrane\">SimpleHHCellModel</th>\n",
       "<td style=\"background-color: rgb(255,119,119);\" title>Z = -0.72</td>\n",
       "<td style=\"background-color: rgb(255,179,179);\" title>Z = -0.38</td>\n",
       "<td style=\"background-color: rgb(255,44,44);\" title>Z = -1.35</td>\n",
       "<td style=\"background-color: rgb(255,154,154);\" title>Z = 0.51</td>\n",
       "<td style=\"background-color: rgb(255,193,193);\" title>Z = -0.31</td>\n",
       "<td style=\"background-color: rgb(255,253,253);\" title>Z = 0.01</td>\n",
       "</tr>\n",
       "</tbody>\n",
       "</table></body></html>"
      ],
      "text/plain": [
       "<IPython.core.display.HTML object>"
      ]
     },
     "execution_count": 38,
     "metadata": {},
     "output_type": "execute_result"
    }
   ],
   "source": [
    "score = suite.judge(mod1)\n",
    "score.view()"
   ]
  }
 ],
 "metadata": {
  "kernelspec": {
   "display_name": "Python 2",
   "language": "python",
   "name": "python2"
  },
  "language_info": {
   "codemirror_mode": {
    "name": "ipython",
    "version": 2
   },
   "file_extension": ".py",
   "mimetype": "text/x-python",
   "name": "python",
   "nbconvert_exporter": "python",
   "pygments_lexer": "ipython2",
   "version": "2.7.11"
  },
  "widgets": {
   "state": {
    "00069aa33be14090b27ab4475a04d1c9": {
     "views": []
    },
    "0a6d3cc4712748bf87356276a72f5aab": {
     "views": []
    },
    "0b62de6d85cf4bb0bb9ec7be5eb2c70f": {
     "views": []
    },
    "0b8300ed68694df0925f2fd39916b1e6": {
     "views": []
    },
    "0c007ca03df54f50adb6ad1c7b30f31a": {
     "views": []
    },
    "0c3cbc34ff6a404e862cafdad24ba9f4": {
     "views": []
    },
    "0ce24429cf28418a916d074645910899": {
     "views": []
    },
    "0f7876cc43f8491488213aa94a109a77": {
     "views": []
    },
    "1136ca9a041942ee9a495c81d6eda015": {
     "views": []
    },
    "137d5f0a49a447aa8abb936150c5205e": {
     "views": []
    },
    "166cb0bd1e3549d1becb0d5eff6cd907": {
     "views": []
    },
    "16bfd4cc006241d390c463c8372faa16": {
     "views": []
    },
    "17049cac88bd4dd48f6f19adafa3b09d": {
     "views": []
    },
    "18d61bb50dc64f63b7ac0cc23003291d": {
     "views": []
    },
    "1a86867b3d854204b270fb9075e1ef1c": {
     "views": []
    },
    "1d0a4fa45655482787fb63af06c39bf7": {
     "views": []
    },
    "21e14000993e4572babd916e1dafdcf8": {
     "views": []
    },
    "22f6786bddbb41379f877107c9eeba9c": {
     "views": []
    },
    "24cd244f4acd44159d17c207491079a5": {
     "views": []
    },
    "258f54169d2d42d1b5155f3f6dae335a": {
     "views": []
    },
    "2797b4399cee42648adb23f57998a990": {
     "views": []
    },
    "2813bd39150544ac85a2ca46a810664e": {
     "views": []
    },
    "29bab71e0ee04e1c8e543d76e418b056": {
     "views": []
    },
    "2a2113915d3149feb5be18ff0f61b101": {
     "views": []
    },
    "2d9e4358fed543dcadcd307008f993c2": {
     "views": []
    },
    "2fd53f2ed3944368aab2e4885b93b790": {
     "views": []
    },
    "3258e35b0bee46c5813b5fcb760d5b6c": {
     "views": []
    },
    "3a65ed05e42847b7b8b0da2afc7bab17": {
     "views": []
    },
    "3c4bd966eb5346a7833612ebf0efdc9d": {
     "views": []
    },
    "3d8b072ffaab48b6b1f9e03f0bfae402": {
     "views": []
    },
    "3dd6deaed576437ba931e242a3e014fe": {
     "views": []
    },
    "400ac51f8ff346f89b49252dc7ec4f1b": {
     "views": []
    },
    "424c46cd631649e881713d689db775c4": {
     "views": []
    },
    "490fe0d533ce4bd6b77b6236c90a7285": {
     "views": []
    },
    "49e311dc5b4b408894825091ae1beff1": {
     "views": []
    },
    "4ab1c3a70f2542e4b43cce7b1cbcf036": {
     "views": []
    },
    "4b48bb122fe049b99bed882e5f84dd6b": {
     "views": []
    },
    "4f354c1b79d548339f59c64fd770915a": {
     "views": []
    },
    "4f53c9feade5424c8b9f868bd39740db": {
     "views": []
    },
    "502306320f4846a2b105a018ed54a687": {
     "views": []
    },
    "541fef7a94a9476d8c3000bec85a0521": {
     "views": []
    },
    "550965d93f5d4f02aea728fe8b559407": {
     "views": []
    },
    "550a060a288046909ded471d8adfb02c": {
     "views": []
    },
    "564bde75b32e472abd97c419fec334b9": {
     "views": []
    },
    "568e6b4536074be39a991cf6b91f2209": {
     "views": []
    },
    "574c478b6fd546b2ab305793cd7c15de": {
     "views": []
    },
    "5756c62e646448a089d32927e9ac2087": {
     "views": []
    },
    "5776148e77a74058a68bbf5819fb48b6": {
     "views": []
    },
    "592e44cd0ab5435484fe53ffb54bd0ec": {
     "views": []
    },
    "59ae5a363eb147e5a868cc93d856824a": {
     "views": []
    },
    "5a0221cbe526471496d2701e98f04038": {
     "views": []
    },
    "5dfaa7d7d0bd4a91b12f1d102d089d50": {
     "views": []
    },
    "60a56f8d904846648ce3aa71187c6b9f": {
     "views": []
    },
    "63c5cfd4b00146739d7ac8eacc5feb19": {
     "views": []
    },
    "67153bb55ff543eda5c28b5769a59688": {
     "views": []
    },
    "690484183a3b46ea94e03aa8fbedc51d": {
     "views": []
    },
    "6a99a180a87843d6a5383cfb66f943d3": {
     "views": []
    },
    "6cddcebaa7c143dcb8d10d6517bbadaf": {
     "views": []
    },
    "6de734d749664b11ad117c4c204a9eec": {
     "views": []
    },
    "6fa8668ccc7345969dd3baa03711d8c7": {
     "views": []
    },
    "72a4bfadbfc64b6a98406e412b6fed78": {
     "views": []
    },
    "732bcf581c8444debe2235b36f404590": {
     "views": []
    },
    "74c57fb92aa4481ab2ac7b07da8282c1": {
     "views": []
    },
    "7748dcdc540b491893b5e340114e0da4": {
     "views": []
    },
    "7a86fd7be1f546d29f39010430435528": {
     "views": []
    },
    "7b00c7b124da4d4cbf1bed9c98b621a0": {
     "views": []
    },
    "7d80f85447864926a03f0f627d4134c8": {
     "views": []
    },
    "85577e47b9104b5287a4be91c1719806": {
     "views": []
    },
    "8c2a509d02cb42de9aac5fff46ef573c": {
     "views": []
    },
    "8cf32f03259240669063f50a43018956": {
     "views": []
    },
    "919a3905b3174fbcade36410d17e2b86": {
     "views": []
    },
    "93d9872691ba43388c095f551cfb1832": {
     "views": []
    },
    "944f763bb5e84cb6bbec6fa667d7be3a": {
     "views": []
    },
    "966ba050135842ae9d0e8231da5c4dfc": {
     "views": []
    },
    "973d00fca5614a5f90894c9230deb153": {
     "views": []
    },
    "9a2f72993f014d1dbf9956a9000bcdbf": {
     "views": []
    },
    "9d4ce8f24dba4d6b9d36c1c6055a6d6f": {
     "views": []
    },
    "a461e55315c84784a7c28325c9c4a994": {
     "views": []
    },
    "a47ace6fe69c47a38024f38634372e70": {
     "views": []
    },
    "ab420464cb6e4868863e7803d70a1081": {
     "views": []
    },
    "ab865b5605cb46f28e7577595253f1ba": {
     "views": []
    },
    "b061afaf506d4f1faeb2adf59ab89887": {
     "views": []
    },
    "b3eb4d1e489d4193a25cbd0eff94063a": {
     "views": []
    },
    "b46840027c52482d99c7c564fb290ea1": {
     "views": []
    },
    "b52e662e66f24b4ea365bcdfed7f532d": {
     "views": []
    },
    "b6bdd02c9d584d7183da2f74842dc39d": {
     "views": []
    },
    "b77e234089d94c6987722e58d8f1dee4": {
     "views": []
    },
    "b99e03f6292d4840af11e2a0dfb007f2": {
     "views": []
    },
    "ba5b5a709cc1424e91bdda2d40449f76": {
     "views": []
    },
    "bc765bba84ec41ebb21e7bec1466c104": {
     "views": []
    },
    "bddf0a5afcfb48fdb72b438e8874ae18": {
     "views": []
    },
    "be16601e20c744fe95e7e6b674a7aad0": {
     "views": []
    },
    "bfd71ead88c14b098428ae7d39014eec": {
     "views": []
    },
    "c04c871a9df146909443bd3a4bfafef0": {
     "views": []
    },
    "c0edb38c0547466398f4fd9561451eaf": {
     "views": []
    },
    "c311f40466a14e9ebb573595b2aad067": {
     "views": []
    },
    "c3640be679ad4e9492e90402b61f8622": {
     "views": []
    },
    "c47f53cfebde41679bd9bb4307a6b429": {
     "views": []
    },
    "c5b165a2067d486881259d215ae74682": {
     "views": []
    },
    "c6a384d0093941e88a3012fd04409481": {
     "views": []
    },
    "c6ee4210a44e4e98b4781f0730366c99": {
     "views": []
    },
    "c8d10ba7c97a46fd80a62978cee2d269": {
     "views": []
    },
    "c9342227a5f54abfa025c1c2eca1b579": {
     "views": []
    },
    "c9bbc8ba69c944b7be48f850c979ca84": {
     "views": []
    },
    "ccda8321efa148dcaf42963ffed2b87b": {
     "views": []
    },
    "d0e313716f9b4825b3eae4e1315a56c4": {
     "views": []
    },
    "d71cb1b1c2d54bd79e17d820b5de2cb8": {
     "views": []
    },
    "da8981a13fad44698a188fcd8032a129": {
     "views": []
    },
    "db569e3303354d3a95157f14cf8b1e22": {
     "views": []
    },
    "dcebcfdfe5004dc09d0d6e422f3b2e60": {
     "views": []
    },
    "dd9c448dbee948c0ac3af6c07831d763": {
     "views": []
    },
    "ddce670ebb0f4597ba491ca12d5014f3": {
     "views": []
    },
    "ddd8c699b55f404b9a2512a7b8cb6697": {
     "views": []
    },
    "e1b20763d9174c279bd8698cca376fa3": {
     "views": []
    },
    "ed1c495d51674b0799572ce3dd4b6777": {
     "views": []
    },
    "eefa2ec5b50c4df99a3f7ee9650feda8": {
     "views": [
      {
       "cell": {
        "cell_type": "code",
        "execution_count": 33,
        "metadata": {
         "collapsed": false,
         "trusted": true
        },
        "outputs": [
         {
          "data": {
           "image/png": "iVBORw0KGgoAAAANSUhEUgAAAYkAAAEACAYAAABGYoqtAAAABHNCSVQICAgIfAhkiAAAAAlwSFlz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\ngg==\n",
           "text/plain": "<matplotlib.figure.Figure at 0x10f987310>"
          },
          "metadata": {},
          "output_type": "display_data"
         },
         {
          "data": {
           "image/png": "iVBORw0KGgoAAAANSUhEUgAAAYMAAAEACAYAAABRQBpkAAAABHNCSVQICAgIfAhkiAAAAAlwSFlz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\nCCoGIiKCioGIiAD/H3E/gO4o7gwfAAAAAElFTkSuQmCC\n",
           "text/plain": "<matplotlib.figure.Figure at 0x10eb7a610>"
          },
          "metadata": {},
          "output_type": "display_data"
         },
         {
          "data": {
           "text/plain": "<function __main__.inject>"
          },
          "execution_count": 33,
          "metadata": {},
          "output_type": "execute_result"
         }
        ],
        "source": "from ipywidgets import interact\n\ndef inject(i):\n    mod1.inject_square_current({'amplitude': float(i)*nA, 'delay': .5*s, 'duration': 5*ms})\n\n    g.plot(mod1.get_membrane_potential())\n    g.show()\n    g.plot(mod1.get_APs()[0])\n    g.show()\n    \ninteract(inject,i=\"20\")"
       },
       "cell_index": 7,
       "root": true
      }
     ]
    },
    "ef236885d1124eb4a3b012624cf743e3": {
     "views": []
    },
    "ef4e423ca1884a72b2a7117a7a5e4198": {
     "views": []
    },
    "f0a98ec4dacb4ce8a6f1418cb0b7b07e": {
     "views": []
    },
    "f511e75795414f16bbad95e7398b1d1e": {
     "views": []
    },
    "f77e033278dd41ceac44a5031226f029": {
     "views": []
    },
    "f81866d6ed454ca2b0ad8128be7267a1": {
     "views": []
    },
    "fbc4a52994a54025a83fb64976e4c7b4": {
     "views": []
    },
    "fc56b543f5414a7590b1dc265e53f5b0": {
     "views": []
    }
   },
   "version": "1.1.0"
  }
 },
 "nbformat": 4,
 "nbformat_minor": 0
}
