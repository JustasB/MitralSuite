{
 "cells": [
  {
   "cell_type": "markdown",
   "metadata": {},
   "source": [
    "### Import required packages"
   ]
  },
  {
   "cell_type": "code",
   "execution_count": 1,
   "metadata": {
    "collapsed": false
   },
   "outputs": [],
   "source": [
    "%matplotlib inline\n",
    "import matplotlib.pyplot as g\n",
    "\n",
    "from neuronunit.neuron.models import *\n",
    "from neuronunit.tests import *\n",
    "import neuronunit.neuroelectro\n",
    "from quantities import nA, pA, s, ms, mV\n",
    "\n",
    "from neuron import h\n",
    "\n",
    "# DEBUG TESTING\n",
    "#from importlib import *\n",
    "#import neuronunit\n",
    "#reload(neuronunit.neuron.models)\n",
    "#from neuronunit.neuron.models import *"
   ]
  },
  {
   "cell_type": "markdown",
   "metadata": {},
   "source": [
    "### Create a simple HH cell in NEURON"
   ]
  },
  {
   "cell_type": "code",
   "execution_count": 2,
   "metadata": {
    "collapsed": false
   },
   "outputs": [
    {
     "data": {
      "text/plain": [
       "<nrn.Section at 0x1138fdc60>"
      ]
     },
     "execution_count": 2,
     "metadata": {},
     "output_type": "execute_result"
    }
   ],
   "source": [
    "soma = h.Section()\n",
    "soma.L = 100\n",
    "soma.diam = 100\n",
    "soma.cm = 1\n",
    "soma.Ra = 180\n",
    "soma.insert(\"pas\")\n",
    "soma.insert(\"hh\")"
   ]
  },
  {
   "cell_type": "markdown",
   "metadata": {},
   "source": [
    "### Create a NeuronUnit model using the cell"
   ]
  },
  {
   "cell_type": "code",
   "execution_count": 3,
   "metadata": {
    "collapsed": false
   },
   "outputs": [],
   "source": [
    "mod1 = SingleCellModel(hVar = h, \\\n",
    "                       section = soma, \\\n",
    "                       loc = 0.5, # Current and voltage injection and measurement location on the section \\\n",
    "                       name = \"SimpleHHCellModel\")\n",
    "\n",
    "mod1.setIntegrationMethod(\"fixed\")  # Or \"variable\"\n",
    "mod1.setTimeStep(1/128.0 * ms) # 2^-n are preferable\n",
    "#mod1.setTolerance() # Only needed if \"variable\"\n",
    "mod1.setStopTime(2*s)"
   ]
  },
  {
   "cell_type": "markdown",
   "metadata": {},
   "source": [
    "### Set up current stimulation"
   ]
  },
  {
   "cell_type": "code",
   "execution_count": 4,
   "metadata": {
    "collapsed": false
   },
   "outputs": [],
   "source": [
    "i = {'amplitude': 10*nA, 'delay': 1*s, 'duration': 1*ms}"
   ]
  },
  {
   "cell_type": "markdown",
   "metadata": {},
   "source": [
    "### See the effects of the current"
   ]
  },
  {
   "cell_type": "code",
   "execution_count": 5,
   "metadata": {
    "collapsed": false
   },
   "outputs": [
    {
     "data": {
      "text/plain": [
       "[<matplotlib.lines.Line2D at 0x11400d8d0>]"
      ]
     },
     "execution_count": 5,
     "metadata": {},
     "output_type": "execute_result"
    },
    {
     "data": {
      "image/png": "[encoded data removed]",
      "text/plain": [
       "<matplotlib.figure.Figure at 0x1139ba050>"
      ]
     },
     "metadata": {},
     "output_type": "display_data"
    }
   ],
   "source": [
    "mod1.inject_square_current({'amplitude': 10*nA, 'delay': 1*s, 'duration': 1*ms})\n",
    "\n",
    "g.plot(mod1.get_membrane_potential())"
   ]
  },
  {
   "cell_type": "markdown",
   "metadata": {},
   "source": [
    "### And an AP waveform"
   ]
  },
  {
   "cell_type": "code",
   "execution_count": 6,
   "metadata": {
    "collapsed": false
   },
   "outputs": [
    {
     "data": {
      "text/plain": [
       "[<matplotlib.lines.Line2D at 0x1146c7350>]"
      ]
     },
     "execution_count": 6,
     "metadata": {},
     "output_type": "execute_result"
    },
    {
     "data": {
      "image/png": "[encoded data removed]",
      "text/plain": [
       "<matplotlib.figure.Figure at 0x10f8e3c50>"
      ]
     },
     "metadata": {},
     "output_type": "display_data"
    }
   ],
   "source": [
    "g.plot(mod1.get_APs()[0])"
   ]
  },
  {
   "cell_type": "markdown",
   "metadata": {
    "collapsed": false
   },
   "source": [
    "### Create a suite of tests with expected observations"
   ]
  },
  {
   "cell_type": "code",
   "execution_count": 7,
   "metadata": {
    "collapsed": false
   },
   "outputs": [],
   "source": [
    "t1 = neuronunit.tests.APWidthTest({ 'mean': 1.5*ms, 'std': 0.5*ms }) # Example values\n",
    "t2 = neuronunit.tests.RestingPotentialTest({ 'mean': -67*mV, 'std': 5*mV })\n",
    "\n",
    "suite = sciunit.TestSuite(\"SimpleTestSuite\",[t1,t2])"
   ]
  },
  {
   "cell_type": "markdown",
   "metadata": {},
   "source": [
    "### Evaluate the model with the test suite"
   ]
  },
  {
   "cell_type": "code",
   "execution_count": 8,
   "metadata": {
    "collapsed": false
   },
   "outputs": [
    {
     "name": "stdout",
     "output_type": "stream",
     "text": [
      "A Z score. A float indicating standardized difference from a reference mean.\n",
      "The difference between the means of the observation and prediction divided by the standard deviation of the observation\n",
      "A Z score. A float indicating standardized difference from a reference mean.\n",
      "The difference between the means of the observation and prediction divided by the standard deviation of the observation\n"
     ]
    },
    {
     "name": "stderr",
     "output_type": "stream",
     "text": [
      "/usr/local/lib/python2.7/site-packages/beautifulsoup4-4.4.1-py2.7.egg/bs4/__init__.py:166: UserWarning: No parser was explicitly specified, so I'm using the best available HTML parser for this system (\"lxml\"). This usually isn't a problem, but if you run this code on another system, or in a different virtual environment, it may use a different parser and behave differently.\n",
      "\n",
      "To get rid of this warning, change this:\n",
      "\n",
      " BeautifulSoup([your markup])\n",
      "\n",
      "to this:\n",
      "\n",
      " BeautifulSoup([your markup], \"lxml\")\n",
      "\n"
     ]
    },
    {
     "data": {
      "text/html": [
       "<html><body><table border=\"1\" class=\"dataframe\" id=\"6312232999132364266\">\n",
       "<thead>\n",
       "<tr style=\"text-align: right;\">\n",
       "<th></th>\n",
       "<th title=\"A test of the widths of action potentials at half of their maximum height.\">AP width</th>\n",
       "<th title=\"A test of the resting potential of a cell where injected current is set to zero.\">Resting potential</th>\n",
       "</tr>\n",
       "</thead>\n",
       "<tbody>\n",
       "<tr>\n",
       "<th title=\"A NEURON simulator model for an isolated single cell membrane\">SimpleHHCellModel</th>\n",
       "<td style=\"background-color: rgb(255,224,224);\" title>Z = 0.15</td>\n",
       "<td style=\"background-color: rgb(255,233,233);\" title>Z = -0.11</td>\n",
       "</tr>\n",
       "</tbody>\n",
       "</table></body></html>"
      ],
      "text/plain": [
       "<IPython.core.display.HTML object>"
      ]
     },
     "execution_count": 8,
     "metadata": {},
     "output_type": "execute_result"
    }
   ],
   "source": [
    "score = suite.judge(mod1)\n",
    "score.view()"
   ]
  },
  {
   "cell_type": "markdown",
   "metadata": {},
   "source": [
    "### Define tests to run"
   ]
  },
  {
   "cell_type": "code",
   "execution_count": 9,
   "metadata": {
    "collapsed": false
   },
   "outputs": [],
   "source": [
    "# Define which cell's properties to get\n",
    "# 'nlx_anat_100201' is from Olfactory bulb mitral cell, \n",
    "# obtained from http://neuroelectro.org/neuron/129/ (Details)\n",
    "neuron = {'nlex_id': 'nlx_anat_100201'} \n",
    "\n",
    "# Define injection current\n",
    "i = {'injected_square_current': {'amplitude':10*nA, 'delay':1000*ms, 'duration':2000*ms } }\n",
    "\n",
    "# Define the tests to perform on the cell\n",
    "testTypes = [ \\\n",
    "    [InputResistanceTest, None],\n",
    "    [RestingPotentialTest, None],\n",
    "    [InjectedCurrentAPWidthTest, i], \\\n",
    "    [InjectedCurrentAPThresholdTest, i], \\\n",
    "    [InjectedCurrentAPAmplitudeTest, i],\n",
    "]\n",
    "     \n",
    "     \n",
    "\n",
    "tests = []"
   ]
  },
  {
   "cell_type": "markdown",
   "metadata": {},
   "source": [
    "### Obtain Property Values (observations) from NeuroElectro.org"
   ]
  },
  {
   "cell_type": "code",
   "execution_count": 10,
   "metadata": {
    "collapsed": false
   },
   "outputs": [
    {
     "name": "stdout",
     "output_type": "stream",
     "text": [
      "Getting data values from neuroelectro.org\n",
      "http://www.neuroelectro.org/api/1/nes/?nlex=nlx_anat_100201&e__name=Input+Resistance\n",
      "Getting data values from neuroelectro.org\n",
      "http://www.neuroelectro.org/api/1/nes/?nlex=nlx_anat_100201&e__name=Resting+membrane+potential\n",
      "Getting data values from neuroelectro.org\n",
      "http://www.neuroelectro.org/api/1/nes/?nlex=nlx_anat_100201&e__name=Spike+Half-Width\n",
      "Getting data values from neuroelectro.org\n",
      "http://www.neuroelectro.org/api/1/nes/?nlex=nlx_anat_100201&e__name=Spike+Threshold\n",
      "Getting data values from neuroelectro.org\n",
      "http://www.neuroelectro.org/api/1/nes/?nlex=nlx_anat_100201&e__name=Spike+Amplitude\n"
     ]
    }
   ],
   "source": [
    "# Fetch NeuroElectro property values for each test\n",
    "for t in xrange(len(testTypes)):\n",
    "    testType = testTypes[t][0]\n",
    "    params = testTypes[t][1]\n",
    "    \n",
    "    # Get the observations: property means and stds\n",
    "    obs = testType.neuroelectro_summary_observation(neuron)\n",
    "    \n",
    "    # Create a test instance using the observations\n",
    "    test = testType(obs)\n",
    "    \n",
    "    if(params is not None):\n",
    "        test.params = params\n",
    "    \n",
    "    tests.append(test)\n",
    "    \n",
    "# Create a test suite    \n",
    "suite = sciunit.TestSuite(\"Mitral Cell Membrane Property Tests\", tests)"
   ]
  },
  {
   "cell_type": "markdown",
   "metadata": {},
   "source": [
    "### Evaluate the model"
   ]
  },
  {
   "cell_type": "code",
   "execution_count": 11,
   "metadata": {
    "collapsed": false
   },
   "outputs": [
    {
     "name": "stdout",
     "output_type": "stream",
     "text": [
      "A Z score. A float indicating standardized difference from a reference mean.\n",
      "The difference between the means of the observation and prediction divided by the standard deviation of the observation\n",
      "A Z score. A float indicating standardized difference from a reference mean.\n",
      "The difference between the means of the observation and prediction divided by the standard deviation of the observation\n",
      "A Z score. A float indicating standardized difference from a reference mean.\n",
      "The difference between the means of the observation and prediction divided by the standard deviation of the observation\n",
      "A Z score. A float indicating standardized difference from a reference mean.\n",
      "The difference between the means of the observation and prediction divided by the standard deviation of the observation\n",
      "A Z score. A float indicating standardized difference from a reference mean.\n",
      "The difference between the means of the observation and prediction divided by the standard deviation of the observation\n"
     ]
    },
    {
     "data": {
      "text/html": [
       "<html><body><table border=\"1\" class=\"dataframe\" id=\"3312219999220364540\">\n",
       "<thead>\n",
       "<tr style=\"text-align: right;\">\n",
       "<th></th>\n",
       "<th title=\"A test of the input resistance of a cell.\">Input resistance</th>\n",
       "<th title=\"A test of the resting potential of a cell where injected current is set to zero.\">Resting potential</th>\n",
       "<th title=\"A test of the widths of action potentials at half of their maximum height when current is injected into cell.\">Injected current AP width</th>\n",
       "<th title=\"A test of the membrane potential threshold at which action potentials are produced under current injection.\">Injected current AP threshold</th>\n",
       "<th title=\"A test of the heights (peak amplitudes) of action potentials when current is injected into cell.\">Injected current AP amplitude</th>\n",
       "</tr>\n",
       "</thead>\n",
       "<tbody>\n",
       "<tr>\n",
       "<th title=\"A NEURON simulator model for an isolated single cell membrane\">SimpleHHCellModel</th>\n",
       "<td style=\"background-color: rgb(255,26,26);\" title>Z = -1.63</td>\n",
       "<td style=\"background-color: rgb(255,20,20);\" title>Z = -1.75</td>\n",
       "<td style=\"background-color: rgb(255,44,44);\" title>Z = -1.35</td>\n",
       "<td style=\"background-color: rgb(255,0,0);\" title>Z = -3.22</td>\n",
       "<td style=\"background-color: rgb(255,0,0);\" title>Z = 9.26</td>\n",
       "</tr>\n",
       "</tbody>\n",
       "</table></body></html>"
      ],
      "text/plain": [
       "<IPython.core.display.HTML object>"
      ]
     },
     "execution_count": 11,
     "metadata": {},
     "output_type": "execute_result"
    }
   ],
   "source": [
    "score = suite.judge(mod1)\n",
    "score.view()"
   ]
  },
  {
   "cell_type": "code",
   "execution_count": null,
   "metadata": {
    "collapsed": true
   },
   "outputs": [],
   "source": []
  }
 ],
 "metadata": {
  "kernelspec": {
   "display_name": "Python 2",
   "language": "python",
   "name": "python2"
  },
  "language_info": {
   "codemirror_mode": {
    "name": "ipython",
    "version": 2
   },
   "file_extension": ".py",
   "mimetype": "text/x-python",
   "name": "python",
   "nbconvert_exporter": "python",
   "pygments_lexer": "ipython2",
   "version": "2.7.11"
  }
 },
 "nbformat": 4,
 "nbformat_minor": 0
}
