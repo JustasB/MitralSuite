{
 "cells": [
  {
   "cell_type": "markdown",
   "metadata": {
    "collapsed": true
   },
   "source": [
    "### Load model mechanisms"
   ]
  },
  {
   "cell_type": "code",
   "execution_count": 2,
   "metadata": {
    "collapsed": false
   },
   "outputs": [],
   "source": [
    "modelPath = 'Models/LiCleland2013'\n",
    "\n",
    "import os\n",
    "os.chdir(modelPath)\n",
    "\n",
    "from neuron import h"
   ]
  },
  {
   "cell_type": "markdown",
   "metadata": {},
   "source": [
    "### Import required packages"
   ]
  },
  {
   "cell_type": "code",
   "execution_count": 3,
   "metadata": {
    "collapsed": false
   },
   "outputs": [],
   "source": [
    "%matplotlib inline\n",
    "import matplotlib.pyplot as g\n",
    "\n",
    "from neuronunit.neuron.models import *\n",
    "from neuronunit.tests import *\n",
    "import neuronunit.neuroelectro\n",
    "from quantities import nA, pA, s, ms, mV"
   ]
  },
  {
   "cell_type": "markdown",
   "metadata": {},
   "source": [
    "### Create a Mitral Cell"
   ]
  },
  {
   "cell_type": "code",
   "execution_count": 9,
   "metadata": {
    "collapsed": false
   },
   "outputs": [],
   "source": [
    "# This creates an isolated, resting cell (taken from MC_stim.hoc)\n",
    "h.xopen(\"tabchannels.hoc\")\n",
    "h.load_file(\"MC_def.hoc\")         \n",
    "h.celsius = 35 \n",
    "h.v_init = -68.9\n",
    "cell = h.Mitral(0.0e-3)\n",
    "\n",
    "soma = cell.soma"
   ]
  },
  {
   "cell_type": "markdown",
   "metadata": {},
   "source": [
    "### Create a NeuronUnit model using the cell"
   ]
  },
  {
   "cell_type": "code",
   "execution_count": 26,
   "metadata": {
    "collapsed": false
   },
   "outputs": [],
   "source": [
    "mod1 = SingleCellModel(hVar = h, \\\n",
    "                       section = soma, \\\n",
    "                       loc = 0.5, # Current and voltage injection and measurement location on the section \\\n",
    "                       name = \"LiCleland2013\")\n",
    "\n",
    "mod1.setIntegrationMethod(\"fixed\")  # Or \"variable\"\n",
    "mod1.setTimeStep(1/32.0 * ms) # 2^-n are preferable\n",
    "mod1.setTolerance() # Only needed if \"variable\"\n",
    "mod1.setStopTime(500*ms)"
   ]
  },
  {
   "cell_type": "code",
   "execution_count": 35,
   "metadata": {
    "collapsed": false
   },
   "outputs": [
    {
     "data": {
      "text/plain": [
       "[<matplotlib.lines.Line2D at 0x10db509d0>]"
      ]
     },
     "execution_count": 35,
     "metadata": {},
     "output_type": "execute_result"
    },
    {
     "data": {
      "image/png": "[encoded data removed]",
      "text/plain": [
       "<matplotlib.figure.Figure at 0x10d8fb2d0>"
      ]
     },
     "metadata": {},
     "output_type": "display_data"
    }
   ],
   "source": [
    "mod1.inject_square_current({'amplitude': 1.8*nA, 'delay': 100*ms, 'duration': 300*ms})\n",
    "\n",
    "g.plot(mod1.get_membrane_potential())"
   ]
  },
  {
   "cell_type": "markdown",
   "metadata": {},
   "source": [
    "### Define tests to run"
   ]
  },
  {
   "cell_type": "code",
   "execution_count": 11,
   "metadata": {
    "collapsed": false
   },
   "outputs": [],
   "source": [
    "# Define which cell's properties to get\n",
    "# 'nlx_anat_100201' is from Olfactory bulb mitral cell, \n",
    "# obtained from http://neuroelectro.org/neuron/129/ (Details)\n",
    "neuron = {'nlex_id': 'nlx_anat_100201'} \n",
    "\n",
    "# Define injection current\n",
    "i = {'injected_square_current': {'amplitude': 0.5*nA, 'delay': 200*ms, 'duration': 100*ms} }\n",
    "\n",
    "# Define the tests to perform on the cell\n",
    "testTypes = [ \\\n",
    "    [InputResistanceTest, None],\n",
    "    [RestingPotentialTest, None],\n",
    "    [InjectedCurrentAPWidthTest, i], \\\n",
    "    [InjectedCurrentAPThresholdTest, i], \\\n",
    "    [InjectedCurrentAPAmplitudeTest, i],\n",
    "]\n",
    "     \n",
    "tests = []"
   ]
  },
  {
   "cell_type": "markdown",
   "metadata": {},
   "source": [
    "### Obtain Pooled Property Values from NeuroElectro.org"
   ]
  },
  {
   "cell_type": "code",
   "execution_count": 12,
   "metadata": {
    "collapsed": false
   },
   "outputs": [
    {
     "name": "stdout",
     "output_type": "stream",
     "text": [
      "Getting data values from neuroelectro.org\n",
      "http://www.neuroelectro.org/api/1/nedm/?nlex=nlx_anat_100201&limit=999&e__name=Input+Resistance&\n",
      "Raw Values\n",
      "{'std': None, 'sem': 11.6, 'n': None, 'mean': 32.9}\n",
      "{'std': None, 'sem': 10.0, 'n': None, 'mean': 128.0}\n",
      "{'std': None, 'sem': 16.0, 'n': None, 'mean': 115.0}\n",
      "{'std': None, 'sem': 10.0, 'n': None, 'mean': 124.0}\n",
      "{'std': None, 'sem': 4.0, 'n': None, 'mean': 107.0}\n",
      "{'std': None, 'sem': 36.1, 'n': None, 'mean': 208.7}\n",
      "{'std': None, 'sem': 16.6, 'n': None, 'mean': 118.0}\n",
      "{'std': None, 'sem': 4.0, 'n': None, 'mean': 68.0}\n",
      "{'std': None, 'sem': 5.6, 'n': None, 'mean': 59.0}\n",
      "{'std': None, 'sem': 33.0, 'n': None, 'mean': 236.0}\n",
      "{'std': None, 'sem': 7.8, 'n': None, 'mean': 103.0}\n",
      "{'std': None, 'sem': 13.0, 'n': None, 'mean': 214.0}\n",
      "{'std': None, 'sem': 20.3, 'n': None, 'mean': 47.4}\n",
      "{'std': None, 'sem': 110.0, 'n': None, 'mean': 240.0}\n",
      "{'std': None, 'sem': 23.0, 'n': None, 'mean': 299.0}\n",
      "{'std': None, 'sem': 7.0, 'n': None, 'mean': 19.0}\n",
      "{'std': None, 'sem': None, 'n': None, 'mean': 94.3}\n",
      "{'std': None, 'sem': 53.4, 'n': 48, 'mean': 128.2}\n",
      "---------------------------------------------------\n",
      "Filled in Values (computed or median where missing)\n",
      "{'std': 80.3671574711959, 'sem': 11.6, 'n': 48, 'weight': 0.007431629013079669, 'mean': 32.9}\n",
      "{'std': 69.28203230275508, 'sem': 10.0, 'n': 48, 'weight': 0.010000000000000002, 'mean': 128.0}\n",
      "{'std': 110.85125168440814, 'sem': 16.0, 'n': 48, 'weight': 0.003906250000000001, 'mean': 115.0}\n",
      "{'std': 69.28203230275508, 'sem': 10.0, 'n': 48, 'weight': 0.010000000000000002, 'mean': 124.0}\n",
      "{'std': 27.712812921102035, 'sem': 4.0, 'n': 48, 'weight': 0.06250000000000001, 'mean': 107.0}\n",
      "{'std': 250.10813661294588, 'sem': 36.1, 'n': 48, 'weight': 0.0007673360394717659, 'mean': 208.7}\n",
      "{'std': 115.00817362257345, 'sem': 16.6, 'n': 48, 'weight': 0.0036289737262302224, 'mean': 118.0}\n",
      "{'std': 27.712812921102035, 'sem': 4.0, 'n': 48, 'weight': 0.06250000000000001, 'mean': 68.0}\n",
      "{'std': 38.797938089542846, 'sem': 5.6, 'n': 48, 'weight': 0.031887755102040824, 'mean': 59.0}\n",
      "{'std': 228.63070659909178, 'sem': 33.0, 'n': 48, 'weight': 0.0009182736455463729, 'mean': 236.0}\n",
      "{'std': 54.03998519614897, 'sem': 7.8, 'n': 48, 'weight': 0.016436554898093363, 'mean': 103.0}\n",
      "{'std': 90.06664199358161, 'sem': 13.0, 'n': 48, 'weight': 0.00591715976331361, 'mean': 214.0}\n",
      "{'std': 140.64252557459284, 'sem': 20.3, 'n': 48, 'weight': 0.0024266543716178505, 'mean': 47.4}\n",
      "{'std': 762.102355330306, 'sem': 110.0, 'n': 48, 'weight': 8.264462809917357e-05, 'mean': 240.0}\n",
      "{'std': 159.3486742963367, 'sem': 23.0, 'n': 48, 'weight': 0.0018903591682419662, 'mean': 299.0}\n",
      "{'std': 48.49742261192856, 'sem': 7.0, 'n': 48, 'weight': 0.02040816326530612, 'mean': 19.0}\n",
      "{'std': 90.06664199358161, 'sem': 13.0, 'n': 48, 'weight': 0.00591715976331361, 'mean': 94.3}\n",
      "{'std': 369.96605249671217, 'sem': 53.4, 'n': 48, 'weight': 0.0003506852389569219, 'mean': 128.2}\n",
      "Getting data values from neuroelectro.org\n",
      "http://www.neuroelectro.org/api/1/nedm/?nlex=nlx_anat_100201&limit=999&e__name=Resting+membrane+potential&\n",
      "Raw Values\n",
      "{'std': None, 'sem': 4.9, 'n': None, 'mean': -51.3}\n",
      "{'std': None, 'sem': 8.6, 'n': None, 'mean': -65.4}\n",
      "{'std': None, 'sem': 1.7, 'n': None, 'mean': -62.7}\n",
      "{'std': None, 'sem': 1.2, 'n': None, 'mean': -56.0}\n",
      "{'std': None, 'sem': 1.2, 'n': None, 'mean': -53.8}\n",
      "{'std': None, 'sem': 0.7, 'n': None, 'mean': -61.5}\n",
      "{'std': None, 'sem': 2.6, 'n': None, 'mean': -63.6}\n",
      "{'std': None, 'sem': 4.9, 'n': None, 'mean': -64.3}\n",
      "{'std': None, 'sem': 4.9, 'n': None, 'mean': -51.3}\n",
      "{'std': None, 'sem': 3.2, 'n': None, 'mean': -57.0}\n",
      "{'std': None, 'sem': 0.6, 'n': None, 'mean': -63.5}\n",
      "{'std': None, 'sem': 1.1, 'n': None, 'mean': -49.0}\n",
      "{'std': None, 'sem': 4.9, 'n': None, 'mean': -55.0}\n",
      "{'std': None, 'sem': 2.7, 'n': None, 'mean': -61.65}\n",
      "{'std': None, 'sem': 0.2, 'n': None, 'mean': -53.4}\n",
      "{'std': None, 'sem': 5.5, 'n': 48, 'mean': -58.2}\n",
      "---------------------------------------------------\n",
      "Filled in Values (computed or median where missing)\n",
      "{'std': 33.948195828349995, 'sem': 4.9, 'n': 48, 'weight': 0.04164931278633902, 'mean': -51.3}\n",
      "{'std': 59.582547780369374, 'sem': 8.6, 'n': 48, 'weight': 0.013520822065981614, 'mean': -65.4}\n",
      "{'std': 11.777945491468365, 'sem': 1.7, 'n': 48, 'weight': 0.34602076124567477, 'mean': -62.7}\n",
      "{'std': 8.31384387633061, 'sem': 1.2, 'n': 48, 'weight': 0.6944444444444445, 'mean': -56.0}\n",
      "{'std': 8.31384387633061, 'sem': 1.2, 'n': 48, 'weight': 0.6944444444444445, 'mean': -53.8}\n",
      "{'std': 4.849742261192856, 'sem': 0.7, 'n': 48, 'weight': 2.0408163265306127, 'mean': -61.5}\n",
      "{'std': 18.01332839871632, 'sem': 2.6, 'n': 48, 'weight': 0.14792899408284027, 'mean': -63.6}\n",
      "{'std': 33.948195828349995, 'sem': 4.9, 'n': 48, 'weight': 0.04164931278633902, 'mean': -64.3}\n",
      "{'std': 33.948195828349995, 'sem': 4.9, 'n': 48, 'weight': 0.04164931278633902, 'mean': -51.3}\n",
      "{'std': 22.17025033688163, 'sem': 3.2, 'n': 48, 'weight': 0.09765625, 'mean': -57.0}\n",
      "{'std': 4.156921938165305, 'sem': 0.6, 'n': 48, 'weight': 2.777777777777778, 'mean': -63.5}\n",
      "{'std': 7.62102355330306, 'sem': 1.1, 'n': 48, 'weight': 0.8264462809917354, 'mean': -49.0}\n",
      "{'std': 33.948195828349995, 'sem': 4.9, 'n': 48, 'weight': 0.04164931278633902, 'mean': -55.0}\n",
      "{'std': 18.706148721743876, 'sem': 2.7, 'n': 48, 'weight': 0.1371742112482853, 'mean': -61.65}\n",
      "{'std': 1.3856406460551018, 'sem': 0.2, 'n': 48, 'weight': 25.0, 'mean': -53.4}\n",
      "{'std': 38.1051177665153, 'sem': 5.5, 'n': 48, 'weight': 0.03305785123966942, 'mean': -58.2}\n",
      "Getting data values from neuroelectro.org\n",
      "http://www.neuroelectro.org/api/1/nedm/?nlex=nlx_anat_100201&limit=999&e__name=Spike+Half-Width&\n",
      "Raw Values\n",
      "{'std': None, 'sem': 0.1, 'n': None, 'mean': 1.98}\n",
      "{'std': None, 'sem': 0.06, 'n': None, 'mean': 1.65}\n",
      "{'std': None, 'sem': 0.2, 'n': 48, 'mean': 1.2}\n",
      "---------------------------------------------------\n",
      "Filled in Values (computed or median where missing)\n",
      "{'std': 0.6928203230275509, 'sem': 0.1, 'n': 48, 'weight': 100.0, 'mean': 1.98}\n",
      "{'std': 0.4156921938165305, 'sem': 0.06, 'n': 48, 'weight': 277.7777777777778, 'mean': 1.65}\n",
      "{'std': 1.3856406460551018, 'sem': 0.2, 'n': 48, 'weight': 25.0, 'mean': 1.2}\n",
      "Getting data values from neuroelectro.org\n",
      "http://www.neuroelectro.org/api/1/nedm/?nlex=nlx_anat_100201&limit=999&e__name=Spike+Threshold&\n",
      "Raw Values\n",
      "{'std': None, 'sem': 0.6, 'n': None, 'mean': -49.5}\n",
      "{'std': None, 'sem': 2.3, 'n': None, 'mean': -33.4}\n",
      "{'std': None, 'sem': 8.7, 'n': 48, 'mean': -33.8}\n",
      "---------------------------------------------------\n",
      "Filled in Values (computed or median where missing)\n",
      "{'std': 4.156921938165305, 'sem': 0.6, 'n': 48, 'weight': 2.777777777777778, 'mean': -49.5}\n",
      "{'std': 15.93486742963367, 'sem': 2.3, 'n': 48, 'weight': 0.18903591682419663, 'mean': -33.4}\n",
      "{'std': 60.27536810339692, 'sem': 8.7, 'n': 48, 'weight': 0.013211784912141634, 'mean': -33.8}\n",
      "Getting data values from neuroelectro.org\n",
      "http://www.neuroelectro.org/api/1/nedm/?nlex=nlx_anat_100201&limit=999&e__name=Spike+Amplitude&\n",
      "Raw Values\n",
      "{'std': None, 'sem': 4.0, 'n': None, 'mean': 67.0}\n",
      "{'std': None, 'sem': 1.0, 'n': None, 'mean': 75.0}\n",
      "{'std': None, 'sem': 10.4, 'n': 48, 'mean': 63.2}\n",
      "---------------------------------------------------\n",
      "Filled in Values (computed or median where missing)\n",
      "{'std': 27.712812921102035, 'sem': 4.0, 'n': 48, 'weight': 0.06250000000000001, 'mean': 67.0}\n",
      "{'std': 6.928203230275509, 'sem': 1.0, 'n': 48, 'weight': 1.0000000000000002, 'mean': 75.0}\n",
      "{'std': 72.05331359486529, 'sem': 10.4, 'n': 48, 'weight': 0.009245562130177517, 'mean': 63.2}\n"
     ]
    }
   ],
   "source": [
    "# Fetch NeuroElectro property values for each test\n",
    "for t in xrange(len(testTypes)):\n",
    "    testType = testTypes[t][0]\n",
    "    params = testTypes[t][1]\n",
    "    \n",
    "    # Get the observations: property means and stds\n",
    "    obs = testType.neuroelectro_pooled_observation(neuron, quiet=False)\n",
    "    \n",
    "    # Create a test instance using the observations\n",
    "    test = testType(obs)\n",
    "    \n",
    "    if(params is not None):\n",
    "        test.params = params\n",
    "    \n",
    "    tests.append(test)\n",
    "    \n",
    "# Create a test suite    \n",
    "suite = sciunit.TestSuite(\"O'Connor 2012 Tests\", tests)"
   ]
  },
  {
   "cell_type": "markdown",
   "metadata": {},
   "source": [
    "### Evaluate the model"
   ]
  },
  {
   "cell_type": "code",
   "execution_count": 16,
   "metadata": {
    "collapsed": false
   },
   "outputs": [
    {
     "name": "stdout",
     "output_type": "stream",
     "text": [
      "A Z score. A float indicating standardized difference from a reference mean.\n",
      "The difference between the means of the observation and prediction divided by the standard deviation of the observation\n",
      "A Z score. A float indicating standardized difference from a reference mean.\n",
      "The difference between the means of the observation and prediction divided by the standard deviation of the observation\n",
      "A Z score. A float indicating standardized difference from a reference mean.\n",
      "The difference between the means of the observation and prediction divided by the standard deviation of the observation\n",
      "A Z score. A float indicating standardized difference from a reference mean.\n",
      "The difference between the means of the observation and prediction divided by the standard deviation of the observation\n",
      "A Z score. A float indicating standardized difference from a reference mean.\n",
      "The difference between the means of the observation and prediction divided by the standard deviation of the observation\n"
     ]
    },
    {
     "data": {
      "text/html": [
       "<html><body><table border=\"1\" class=\"dataframe\" id=\"-8073862616635429539\">\n",
       "<thead>\n",
       "<tr style=\"text-align: right;\">\n",
       "<th></th>\n",
       "<th title=\"A test of the input resistance of a cell.\">Input resistance</th>\n",
       "<th title=\"A test of the resting potential of a cell where injected current is set to zero.\">Resting potential</th>\n",
       "<th title=\"A test of the widths of action potentials at half of their maximum height when current is injected into cell.\">Injected current AP width</th>\n",
       "<th title=\"A test of the membrane potential threshold at which action potentials are produced under current injection.\">Injected current AP threshold</th>\n",
       "<th title=\"A test of the heights (peak amplitudes) of action potentials when current is injected into cell.\">Injected current AP amplitude</th>\n",
       "</tr>\n",
       "</thead>\n",
       "<tbody>\n",
       "<tr>\n",
       "<th title=\"A NEURON simulator model for an isolated single cell membrane\">OConnor2012</th>\n",
       "<td style=\"background-color: rgb(128,128,128);\" title>Z = nan</td>\n",
       "<td style=\"background-color: rgb(255,0,0);\" title>Z = -3.64</td>\n",
       "<td style=\"background-color: rgb(255,0,0);\" title>Z = 17.08</td>\n",
       "<td style=\"background-color: rgb(255,130,130);\" title>Z = 0.66</td>\n",
       "<td style=\"background-color: rgb(255,0,0);\" title>Z = 11.85</td>\n",
       "</tr>\n",
       "</tbody>\n",
       "</table></body></html>"
      ],
      "text/plain": [
       "<IPython.core.display.HTML object>"
      ]
     },
     "execution_count": 16,
     "metadata": {},
     "output_type": "execute_result"
    }
   ],
   "source": [
    "score = suite.judge(mod1)\n",
    "score.view()"
   ]
  },
  {
   "cell_type": "code",
   "execution_count": 28,
   "metadata": {
    "collapsed": false
   },
   "outputs": [
    {
     "data": {
      "text/plain": [
       "({'mean': array(-68.28201645265179) * mV,\n",
       "  'std': array(0.16417962548970916) * mV},\n",
       " {'mean': array(-54.91352639293467) * mV,\n",
       "  'n': 768,\n",
       "  'std': array(3.5966632268270806) * mV},\n",
       " Z = -3.72)"
      ]
     },
     "execution_count": 28,
     "metadata": {},
     "output_type": "execute_result"
    }
   ],
   "source": [
    "(tests[1].generate_prediction(mod1), tests[1].observation, tests[1].judge(mod1))"
   ]
  },
  {
   "cell_type": "code",
   "execution_count": 26,
   "metadata": {
    "collapsed": false
   },
   "outputs": [
    {
     "data": {
      "text/plain": [
       "{'mean': array(-54.91352639293467) * mV,\n",
       " 'n': 768,\n",
       " 'std': array(3.5966632268270806) * mV}"
      ]
     },
     "execution_count": 26,
     "metadata": {},
     "output_type": "execute_result"
    }
   ],
   "source": []
  },
  {
   "cell_type": "code",
   "execution_count": 27,
   "metadata": {
    "collapsed": false
   },
   "outputs": [
    {
     "data": {
      "text/plain": [
       "Z = -3.72"
      ]
     },
     "execution_count": 27,
     "metadata": {},
     "output_type": "execute_result"
    }
   ],
   "source": []
  },
  {
   "cell_type": "code",
   "execution_count": null,
   "metadata": {
    "collapsed": true
   },
   "outputs": [],
   "source": []
  }
 ],
 "metadata": {
  "kernelspec": {
   "display_name": "Python 2",
   "language": "python",
   "name": "python2"
  },
  "language_info": {
   "codemirror_mode": {
    "name": "ipython",
    "version": 2
   },
   "file_extension": ".py",
   "mimetype": "text/x-python",
   "name": "python",
   "nbconvert_exporter": "python",
   "pygments_lexer": "ipython2",
   "version": "2.7.11"
  }
 },
 "nbformat": 4,
 "nbformat_minor": 0
}
