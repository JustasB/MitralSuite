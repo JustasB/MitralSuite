{
 "cells": [
  {
   "cell_type": "code",
   "execution_count": 1,
   "metadata": {
    "collapsed": true
   },
   "outputs": [],
   "source": [
    "### Load model mechanisms"
   ]
  },
  {
   "cell_type": "code",
   "execution_count": 2,
   "metadata": {
    "collapsed": true
   },
   "outputs": [],
   "source": [
    "modelPath = 'Models/OConnor2012'\n",
    "modelName = 'OConnor2012'\n",
    "\n",
    "def getSomaScript(h):\n",
    "    \n",
    "    h(\"objref p\")\n",
    "    h(\"p = new PythonObject()\")\n",
    "    \n",
    "    h.load_file('Cell1.hoc')\n",
    "\n",
    "    # Disable synapses and clear existing stim\n",
    "    h.p.cell = h.Cell1(\"\",\"Cell1\",\"\")\n",
    "    \n",
    "    return h.p.cell.soma"
   ]
  },
  {
   "cell_type": "markdown",
   "metadata": {},
   "source": [
    "### Create a NeuronUnit model"
   ]
  },
  {
   "cell_type": "code",
   "execution_count": 3,
   "metadata": {
    "collapsed": false
   },
   "outputs": [],
   "source": [
    "%matplotlib inline\n",
    "import helpers\n",
    "\n",
    "mod1 = helpers.createModel(name = modelName, \\\n",
    "                           path = modelPath, \\\n",
    "               getSectionScript = getSomaScript)\n",
    "\n",
    "mod1.setIntegrationMethod(\"variable\")\n",
    "\n",
    "# Interactively find stimulation currents\n",
    "#helpers.IClampWidget(mod1)"
   ]
  },
  {
   "cell_type": "code",
   "execution_count": 4,
   "metadata": {
    "collapsed": false
   },
   "outputs": [
    {
     "name": "stderr",
     "output_type": "stream",
     "text": [
      "The installed widget Javascript is the wrong version.\n"
     ]
    }
   ],
   "source": [
    "helpers.IClampWidget(mod1)"
   ]
  },
  {
   "cell_type": "code",
   "execution_count": 5,
   "metadata": {
    "collapsed": false,
    "scrolled": true
   },
   "outputs": [],
   "source": [
    "from quantities import nA, s, ms\n",
    "\n",
    "# Set currents\n",
    "i_rest =    {'amplitude':     0*nA, 'delay': 0.5*s, 'duration': 1*s}\n",
    "i_passive = {'amplitude':  -0.3*nA, 'delay': 0.5*s, 'duration': 1*s}\n",
    "i_ap  =     {'amplitude':     2*nA, 'delay': 0.5*s, 'duration': 2*ms}\n",
    "i_thresh =  {'amplitude':  .6*nA, 'delay': 0.5*s, 'duration': 1000*ms}"
   ]
  },
  {
   "cell_type": "markdown",
   "metadata": {},
   "source": [
    "### Define tests to run"
   ]
  },
  {
   "cell_type": "code",
   "execution_count": 6,
   "metadata": {
    "collapsed": false
   },
   "outputs": [
    {
     "name": "stdout",
     "output_type": "stream",
     "text": [
      "----------\n",
      "Running Test: Resting potential test\n",
      "Expected: -57.4345864662 mV +/- 24.630188347 mV SD\n",
      "Actual: -67.9878690904 mV, Z: -0.428469424412 SDs\n"
     ]
    },
    {
     "data": {
      "image/png": "[encoded data removed]",
      "text/plain": [
       "<matplotlib.figure.Figure at 0x10daf31d0>"
      ]
     },
     "metadata": {},
     "output_type": "display_data"
    },
    {
     "name": "stdout",
     "output_type": "stream",
     "text": [
      "----------\n",
      "Running Test: Resting potential test\n",
      "Expected: -57.4345864662 mV +/- 24.630188347 mV SD\n",
      "Actual: -67.9878690904 mV, Z: -0.428469424412 SDs\n"
     ]
    },
    {
     "data": {
      "image/png": "[encoded data removed]",
      "text/plain": [
       "<matplotlib.figure.Figure at 0x114446b10>"
      ]
     },
     "metadata": {},
     "output_type": "display_data"
    },
    {
     "name": "stdout",
     "output_type": "stream",
     "text": [
      "----------\n",
      "Running Test: Input resistance test\n",
      "Expected: 145113133.641 ohm +/- 189410293.868 ohm SD\n",
      "Actual: 29999672.8481 kg*m**2/(s**3*A**2), Z: -0.60774659308 SDs\n"
     ]
    },
    {
     "data": {
      "image/png": "[encoded data removed]",
      "text/plain": [
       "<matplotlib.figure.Figure at 0x114768910>"
      ]
     },
     "metadata": {},
     "output_type": "display_data"
    },
    {
     "name": "stdout",
     "output_type": "stream",
     "text": [
      "----------\n",
      "Running Test: Time constant test\n",
      "Expected: 27.9651006711 ms +/- 66.3591805191 ms SD\n",
      "Actual: 9.72041915226 ms, Z: -0.27493831865 SDs\n"
     ]
    },
    {
     "data": {
      "image/png": "[encoded data removed]",
      "text/plain": [
       "<matplotlib.figure.Figure at 0x114a471d0>"
      ]
     },
     "metadata": {},
     "output_type": "display_data"
    },
    {
     "name": "stdout",
     "output_type": "stream",
     "text": [
      "----------\n",
      "Running Test: Injected current AP width test\n",
      "Expected: 1.513125 ms +/- 0.961592715477 ms SD\n",
      "Actual: 5.0625 ms, Z: 3.69114173066 SDs\n"
     ]
    },
    {
     "data": {
      "image/png": "[encoded data removed]",
      "text/plain": [
       "<matplotlib.figure.Figure at 0x114bdb850>"
      ]
     },
     "metadata": {},
     "output_type": "display_data"
    },
    {
     "data": {
      "image/png": "[encoded data removed]",
      "text/plain": [
       "<matplotlib.figure.Figure at 0x11508c1d0>"
      ]
     },
     "metadata": {},
     "output_type": "display_data"
    },
    {
     "name": "stdout",
     "output_type": "stream",
     "text": [
      "----------\n",
      "Running Test: Injected current AP threshold test\n",
      "Expected: -34.6053571429 mV +/- 56.7790487536 mV SD\n",
      "Actual: -45.5090231248 mV, Z: -0.19203678507 SDs\n"
     ]
    },
    {
     "data": {
      "image/png": "[encoded data removed]",
      "text/plain": [
       "<matplotlib.figure.Figure at 0x115507bd0>"
      ]
     },
     "metadata": {},
     "output_type": "display_data"
    },
    {
     "data": {
      "image/png": "[encoded data removed]",
      "text/plain": [
       "<matplotlib.figure.Figure at 0x1156f1250>"
      ]
     },
     "metadata": {},
     "output_type": "display_data"
    },
    {
     "name": "stdout",
     "output_type": "stream",
     "text": [
      "----------\n",
      "Running Test: Injected current AP amplitude test\n",
      "Expected: 68.776 mV +/- 50.4271404587 mV SD\n",
      "Actual: 97.8758585355 mV, Z: 0.577067394081 SDs\n"
     ]
    },
    {
     "data": {
      "image/png": "[encoded data removed]",
      "text/plain": [
       "<matplotlib.figure.Figure at 0x11597ae90>"
      ]
     },
     "metadata": {},
     "output_type": "display_data"
    },
    {
     "data": {
      "image/png": "[encoded data removed]",
      "text/plain": [
       "<matplotlib.figure.Figure at 0x114914f50>"
      ]
     },
     "metadata": {},
     "output_type": "display_data"
    }
   ],
   "source": [
    "# Initialize the tests and get their expected values\n",
    "tests = helpers.setupTests(i_rest, i_passive, i_ap, i_thresh, expectedSource = \"Pooled\")\n",
    "\n",
    "helpers.runOneTest(tests[0], mod1)\n",
    "\n",
    "results = helpers.runAllTests(tests,mod1)"
   ]
  },
  {
   "cell_type": "code",
   "execution_count": 32,
   "metadata": {
    "collapsed": false,
    "scrolled": true
   },
   "outputs": [
    {
     "name": "stdout",
     "output_type": "stream",
     "text": [
      "54.363858639 mV\n",
      "-67.9876947974 mV\n",
      "61.1757767182 mV\n",
      "291\n"
     ]
    },
    {
     "data": {
      "image/png": "[encoded data removed]",
      "text/plain": [
       "<matplotlib.figure.Figure at 0x114e80b90>"
      ]
     },
     "metadata": {},
     "output_type": "display_data"
    }
   ],
   "source": [
    "# AP width computed manually, as the AP window is too small for such wide AP\n",
    "pot = mod1.get_membrane_potential()[15900:16700]\n",
    "\n",
    "import matplotlib.pyplot as g\n",
    "g.plot(pot)\n",
    "#g.xlim([15900,16700])\n",
    "\n",
    "print(max(pot))\n",
    "print(min(pot))\n",
    "print((max(pot)-min(pot))/2)\n",
    "halfw = (max(pot)-min(pot))/2\n",
    "print(sum(pot>halfw+min(pot)))\n",
    "results[modelName]['Injected current AP width test'] = mod1.fixedTimeStep*sum(pot>halfw+min(pot))*ms"
   ]
  },
  {
   "cell_type": "code",
   "execution_count": null,
   "metadata": {
    "collapsed": false
   },
   "outputs": [
    {
     "name": "stdout",
     "output_type": "stream",
     "text": [
      "{'OConnor2012': {'Injected current AP amplitude test': array(97.87585853549932) * mV,\n",
      "                 'Injected current AP threshold test': array(-45.50902312484161) * mV,\n",
      "                 'Injected current AP width test': array(9.09375) * ms,\n",
      "                 'Input resistance test': array(29999672.848123327) * kg*m**2/(s**3*A**2),\n",
      "                 'Resting potential test': array(-67.98786909037142) * mV,\n",
      "                 'Time constant test': array(9.720419152257644) * ms}}\n",
      "{'BhallaBower1993': {'Injected current AP amplitude test': array(71.32715773727804) * mV,\n",
      "                     'Injected current AP threshold test': array(-40.35042798167796) * mV,\n",
      "                     'Injected current AP width test': array(0.5333333333333333) * ms,\n",
      "                     'Input resistance test': array(51778384.93506186) * kg*m**2/(s**3*A**2),\n",
      "                     'Resting potential test': array(-65.83856328513072) * mV,\n",
      "                     'Time constant test': array(43.997403548975335) * ms},\n",
      " 'Chen2002': {'Injected current AP amplitude test': array(69.38363667285836) * mV,\n",
      "              'Injected current AP threshold test': array(-51.52742019600102) * mV,\n",
      "              'Injected current AP width test': array(0.7250000000000001) * ms,\n",
      "              'Input resistance test': array(93089321.98357664) * kg*m**2/(s**3*A**2),\n",
      "              'Resting potential test': array(-65.0) * mV,\n",
      "              'Time constant test': array(21.821177240828398) * ms},\n",
      " 'Davison2003': {'Injected current AP amplitude test': array(68.1004423040704) * mV,\n",
      "                 'Injected current AP threshold test': array(-35.12323859705876) * mV,\n",
      "                 'Injected current AP width test': array(0.42500000000000004) * ms,\n",
      "                 'Input resistance test': array(78470665.12368964) * kg*m**2/(s**3*A**2),\n",
      "                 'Resting potential test': array(-65.66587658283359) * mV,\n",
      "                 'Time constant test': array(78.7822331466243) * ms},\n",
      " 'LiCleland2013': {'Injected current AP amplitude test': array(62.66852130297657) * mV,\n",
      "                   'Injected current AP threshold test': array(-37.30218823255159) * mV,\n",
      "                   'Injected current AP width test': array(0.775) * ms,\n",
      "                   'Input resistance test': array(230686567.79598033) * kg*m**2/(s**3*A**2),\n",
      "                   'Resting potential test': array(-68.95505511573606) * mV,\n",
      "                   'Time constant test': array(41.70341199387192) * ms},\n",
      " 'Migliore2014': {'Injected current AP amplitude test': array(90.55768597500035) * mV,\n",
      "                  'Injected current AP threshold test': array(-47.71215417814118) * mV,\n",
      "                  'Injected current AP width test': array(1.625) * ms,\n",
      "                  'Input resistance test': array(16506565.933977198) * kg*m**2/(s**3*A**2),\n",
      "                  'Resting potential test': array(-67.25325914414442) * mV,\n",
      "                  'Time constant test': array(11.334724621510697) * ms},\n",
      " 'MiglioreShepherd2008': {'Injected current AP amplitude test': array(89.27478492966837) * mV,\n",
      "                          'Injected current AP threshold test': array(-48.993008605350624) * mV,\n",
      "                          'Injected current AP width test': array(1.875) * ms,\n",
      "                          'Input resistance test': array(67252621.99283747) * kg*m**2/(s**3*A**2),\n",
      "                          'Resting potential test': array(-65.00000000068397) * mV,\n",
      "                          'Time constant test': array(18.939961688009674) * ms},\n",
      " 'OConnor2012': {'Injected current AP amplitude test': array(97.87585853549932) * mV,\n",
      "                 'Injected current AP threshold test': array(-45.50902312484161) * mV,\n",
      "                 'Injected current AP width test': array(9.09375) * ms,\n",
      "                 'Input resistance test': array(29999672.848123327) * kg*m**2/(s**3*A**2),\n",
      "                 'Resting potential test': array(-67.98786909037142) * mV,\n",
      "                 'Time constant test': array(9.720419152257644) * ms}}\n"
     ]
    }
   ],
   "source": [
    "pp(results)\n",
    "helpers.saveResults(results)\n",
    "pp(helpers.loadResults())\n",
    "mod1.h.quit()"
   ]
  },
  {
   "cell_type": "code",
   "execution_count": null,
   "metadata": {
    "collapsed": true
   },
   "outputs": [],
   "source": []
  }
 ],
 "metadata": {
  "kernelspec": {
   "display_name": "Python 2",
   "language": "python",
   "name": "python2"
  },
  "language_info": {
   "codemirror_mode": {
    "name": "ipython",
    "version": 2
   },
   "file_extension": ".py",
   "mimetype": "text/x-python",
   "name": "python",
   "nbconvert_exporter": "python",
   "pygments_lexer": "ipython2",
   "version": "2.7.11"
  },
  "widgets": {
   "state": {
    "084b28ca2e9e4ac2b2306d2dc47f897a": {
     "views": []
    },
    "0909346576a54e29ab5ce07cf98e64f8": {
     "views": []
    },
    "096a771ea61544488f56f3b6ccc5a96d": {
     "views": []
    },
    "1313dee0219e4911906291f7373e0793": {
     "views": []
    },
    "1b847368438947c98a3bf623cb396349": {
     "views": []
    },
    "1bac0aef846642a48510001386071f42": {
     "views": []
    },
    "1f162e0703224cb68cea9dae3bf9a394": {
     "views": []
    },
    "1f6203df4df8437987d0d3a6939f1752": {
     "views": []
    },
    "1fda8922230a4010a4bcdd9780b0bbcd": {
     "views": []
    },
    "25fa741870ca40ed9d1bce6e2b6502c5": {
     "views": []
    },
    "28a2473f20134846b7f0e3e938c46690": {
     "views": []
    },
    "2b4eecd764a444a3b96b6a13f75379f8": {
     "views": []
    },
    "2d9c822eda8a416eb6e1906af79046d3": {
     "views": []
    },
    "31efaf5ae85648d18fdcc013b6fb15dd": {
     "views": []
    },
    "46d38d1d45ae49b48e646bfb7b1d8980": {
     "views": []
    },
    "48d38838cb524d7596aa86c0b939c821": {
     "views": []
    },
    "53d87216c49b48b7875cf55ab9b46c26": {
     "views": []
    },
    "598093fe60d5493e99cdab198d8e8050": {
     "views": []
    },
    "676b181f3dcc4acd9c806f1afa73c32e": {
     "views": []
    },
    "67faad724fa84793952753d97ce50787": {
     "views": []
    },
    "69c9cf64a32b47798c42ad7fd38c8fc1": {
     "views": []
    },
    "6f165fa01de545a5b93d0334d78750ff": {
     "views": []
    },
    "6f6741a14584460eaaf3a09e24058930": {
     "views": []
    },
    "712e09c9c26848ceb9e818eea269037f": {
     "views": []
    },
    "7436646b6d3c45bfb660ff564ff24f22": {
     "views": []
    },
    "7f13a2200d4e438284c981f90e5776e1": {
     "views": []
    },
    "82f07cd3998a41f895c39e40458254d7": {
     "views": []
    },
    "85d7d949bb8f4202b2c79d5af4292d1e": {
     "views": []
    },
    "88e9e3d2571241b99943b247b65a2a80": {
     "views": []
    },
    "895f977b59c34c64b482438b1792fecd": {
     "views": []
    },
    "8ab7172050ac4c73b0e28c661dfe8c83": {
     "views": []
    },
    "8edb0736aad54b1493d45f48b892e009": {
     "views": []
    },
    "8efff341f031421c861d49330dba231c": {
     "views": []
    },
    "91248102426e47fb86fc658e26324f6d": {
     "views": []
    },
    "957a34546827443bbfc4202f193ba0cc": {
     "views": []
    },
    "9b562a0ff2e04430afe262d91b22cb41": {
     "views": []
    },
    "9bed4429ffc248259d5682fdfb7e29e8": {
     "views": []
    },
    "9f089707a78442ba9e78da7803d1037a": {
     "views": []
    },
    "a3d9ca66eb634d19ac65a39515eb3451": {
     "views": []
    },
    "a5cdfd7b70184445be463297f052f9e3": {
     "views": []
    },
    "a8984c5d5f9648d2b2940ccadd9de21b": {
     "views": []
    },
    "a917de77206546119d049c0c6f160896": {
     "views": []
    },
    "a9e4432cd56d4bf28f2bb49d2920b085": {
     "views": []
    },
    "aa7faff071ec40f79187e2d99ad8a31a": {
     "views": []
    },
    "af48a105afe44318adebd57237926a1f": {
     "views": []
    },
    "b627759e5468488fbf06615765ef8b93": {
     "views": []
    },
    "be5ac5dd570747a3b554f5242adcfc4c": {
     "views": []
    },
    "c58649f017524e828191e7d79a2e9ec8": {
     "views": []
    },
    "cba627ecdeb046c98334a24a1cd3a2a9": {
     "views": []
    },
    "cbd0a26ccf27490c8787d1d62de69a80": {
     "views": []
    },
    "ccf65fe2c0f04b0b9748630e5a894839": {
     "views": []
    },
    "cfd56ed7f8be43de9679103fbd6baf71": {
     "views": [
      {
       "cell": {
        "cell_type": "code",
        "execution_count": 4,
        "metadata": {
         "collapsed": false,
         "trusted": true
        },
        "outputs": [
         {
          "name": "stderr",
          "output_type": "stream",
          "text": "The installed widget Javascript is the wrong version.\n"
         }
        ],
        "source": "helpers.IClampWidget(mod1)"
       },
       "cell_index": 4,
       "root": true
      }
     ]
    },
    "e0f5774611f14542b4ecc8b48c1b296d": {
     "views": []
    },
    "e1d80f90d7da40cd803b7f2adf54525f": {
     "views": []
    },
    "e662db7427734d42998d6feea5372553": {
     "views": []
    },
    "e7064fcb0f8644f088f44e1613f07d67": {
     "views": []
    },
    "e887a817b0e047f2af9cb6f5ee2ca5b1": {
     "views": []
    },
    "f24c77aa41b84ed287ee7f9a2665b1e6": {
     "views": []
    },
    "f9574d6d0c31420181f8dbf869cbe7f5": {
     "views": []
    },
    "fe8a616b33694489877de196d559871d": {
     "views": []
    }
   },
   "version": "1.1.0"
  }
 },
 "nbformat": 4,
 "nbformat_minor": 0
}
